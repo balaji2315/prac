{
 "cells": [
  {
   "cell_type": "code",
   "execution_count": 26,
   "metadata": {},
   "outputs": [
    {
     "name": "stdout",
     "output_type": "stream",
     "text": [
      "enter element to check in the list54\n",
      "Enter list elements54\n",
      "element 54\n"
     ]
    }
   ],
   "source": [
    "def find(n):\n",
    "  \"This finds element from the list\"\n",
    "  l1=input(\"Enter list elements\").split(' ')\n",
    "  l1=list(l1)\n",
    "  l1.sort()\n",
    "  f=0\n",
    "  for i in l1:\n",
    "    if n==i:\n",
    "      print(\"element\",n)\n",
    "      f=1\n",
    "      break\n",
    "  if f==0:\n",
    "    print(\"element\",n)\n",
    "n=input(\"enter element to check in the list\")\n",
    "if __name__ == \"__main__\":\n",
    "    find(n)"
   ]
  },
  {
   "cell_type": "code",
   "execution_count": 10,
   "metadata": {},
   "outputs": [
    {
     "name": "stdout",
     "output_type": "stream",
     "text": [
      "sum 50\n",
      "Sub: 10\n",
      "Mul: 200\n",
      "Div: 1.6666666666666667\n",
      "Mod: 0\n",
      "Fdiv: 6\n"
     ]
    }
   ],
   "source": [
    "add=lambda arg1,arg2:arg1+arg2\n",
    "sub=lambda arg1,arg2:arg1-arg2\n",
    "mul=lambda arg1,arg2:arg1*arg2\n",
    "div=lambda arg1,arg2:arg1/arg2\n",
    "mod=lambda arg1,arg2:arg1%arg2\n",
    "fdiv=lambda arg1,arg2:arg1//arg2\n",
    "print(\"sum\",add(30,20))\n",
    "print(\"Sub:\",sub(20,10))\n",
    "print(\"Mul:\",mul(20,10))\n",
    "print(\"Div:\",div(20.0,12.0))\n",
    "print (\"Mod:\",mod(20,10))\n",
    "print (\"Fdiv:\",fdiv(20,3))"
   ]
  },
  {
   "cell_type": "code",
   "execution_count": 12,
   "metadata": {},
   "outputs": [
    {
     "ename": "NameError",
     "evalue": "name 'demo' is not defined",
     "output_type": "error",
     "traceback": [
      "\u001b[1;31m---------------------------------------------------------------------------\u001b[0m",
      "\u001b[1;31mNameError\u001b[0m                                 Traceback (most recent call last)",
      "\u001b[1;32m<ipython-input-12-66fc1b3e7e66>\u001b[0m in \u001b[0;36m<module>\u001b[1;34m\u001b[0m\n\u001b[1;32m----> 1\u001b[1;33m \u001b[0mf\u001b[0m\u001b[1;33m=\u001b[0m\u001b[0mopen\u001b[0m\u001b[1;33m(\u001b[0m\u001b[0mdemo\u001b[0m\u001b[1;33m.\u001b[0m\u001b[0mtxt\u001b[0m\u001b[1;33m)\u001b[0m\u001b[1;33m\u001b[0m\u001b[1;33m\u001b[0m\u001b[0m\n\u001b[0m\u001b[0;32m      2\u001b[0m \u001b[0mprint\u001b[0m\u001b[1;33m(\u001b[0m\u001b[0mf\u001b[0m\u001b[1;33m.\u001b[0m\u001b[0mread\u001b[0m\u001b[1;33m(\u001b[0m\u001b[1;33m)\u001b[0m\u001b[1;33m)\u001b[0m\u001b[1;33m\u001b[0m\u001b[1;33m\u001b[0m\u001b[0m\n",
      "\u001b[1;31mNameError\u001b[0m: name 'demo' is not defined"
     ]
    }
   ],
   "source": [
    "f=open(demo.txt)\n",
    "print(f.read())"
   ]
  },
  {
   "cell_type": "code",
   "execution_count": 13,
   "metadata": {},
   "outputs": [
    {
     "name": "stdout",
     "output_type": "stream",
     "text": [
      "add: 3\n",
      "sub: -1\n",
      "mul: 576\n",
      "div 5.0\n"
     ]
    }
   ],
   "source": [
    "def add(a,b):\n",
    "    print(\"add:\",a+b)\n",
    "def sub(a,b):\n",
    "    print(\"sub:\",a-b)\n",
    "def mul(a,b):\n",
    "    print(\"mul:\",a*b)\n",
    "def div(a,b):\n",
    "    print(\"div\",a/b)\n",
    "if __name__ == \"__main__\":\n",
    "    add(1,2)\n",
    "    sub(3,4)\n",
    "    mul(144,4)\n",
    "    div(10,2)\n",
    "    "
   ]
  },
  {
   "cell_type": "code",
   "execution_count": 16,
   "metadata": {},
   "outputs": [
    {
     "name": "stdout",
     "output_type": "stream",
     "text": [
      "square : 15.297058540778355\n"
     ]
    }
   ],
   "source": [
    "import math\n",
    "def squ(a):\n",
    "    print(\"square :\",math.sqrt(a))\n",
    "if __name__ == \"__main__\":\n",
    "    squ(234)"
   ]
  },
  {
   "cell_type": "code",
   "execution_count": 24,
   "metadata": {},
   "outputs": [
    {
     "name": "stdout",
     "output_type": "stream",
     "text": [
      "Original String is Pack:My:Box:With:Good:Food\n",
      "Substring from string is ['Pack', 'My', 'Box', 'With', 'Good', 'Food']\n"
     ]
    }
   ],
   "source": [
    "def subStr(str,delcharctr):\n",
    "  subStr= str.split(delcharctr,6)\n",
    "  print (\"Original String is\",str)\n",
    "  return subStr\n",
    "str=\"Pack:My:Box:With:Good:Food\"\n",
    "delcharctr=':'\n",
    "if __name__ == \"__main__\":\n",
    "    subStr= subStr(str,delcharctr)\n",
    "    print(\"Substring from string is\",subStr)"
   ]
  },
  {
   "cell_type": "code",
   "execution_count": 25,
   "metadata": {},
   "outputs": [
    {
     "name": "stdout",
     "output_type": "stream",
     "text": [
      "[1, 2, 3, 4, 11, 22, 33, 44]\n"
     ]
    }
   ],
   "source": [
    "def Extend(t1,l1):\n",
    "  'This extends the tuple with elements of list'\n",
    "  t1=list(t1)\n",
    "  result=t1+l1\n",
    "  print(result)\n",
    "t=(1,2,3,4)\n",
    "l=[11,22,33,44]\n",
    "if __name__ == \"__main__\":\n",
    "    Extend(t,l)"
   ]
  },
  {
   "cell_type": "code",
   "execution_count": 28,
   "metadata": {},
   "outputs": [
    {
     "name": "stdout",
     "output_type": "stream",
     "text": [
      "c is the biggest\n"
     ]
    }
   ],
   "source": [
    "def BiggestRequiredArg(a,b,c,d):\n",
    "  'this checks for biggest of 4 nos'\n",
    "  if a>b and a>c and a>d:\n",
    "    print(\"a is the biggest\")\n",
    "  elif b>a and b>c and b>d:\n",
    "    print (\"b is the biggest\")\n",
    "  elif c>a and c>b and c>d:\n",
    "    print (\"c is the biggest\")\n",
    "  else:\n",
    "    print(\"d is the biggest\")\n",
    "if __name__ == \"__main__\":\n",
    "    BiggestRequiredArg(2,3,4,1)\n"
   ]
  },
  {
   "cell_type": "code",
   "execution_count": 30,
   "metadata": {},
   "outputs": [
    {
     "name": "stdout",
     "output_type": "stream",
     "text": [
      "d is the biggest\n"
     ]
    }
   ],
   "source": [
    "def BiggestDefaultArg(a,b,c,d=8):\n",
    "  'this checks for biggest of 4 nos'\n",
    "  if a>b and a>c and a>d:\n",
    "    print (\"a is the biggest\")\n",
    "  elif b>a and b>c and b>d:\n",
    "    print (\"b is the biggest\")\n",
    "  elif c>a and c>b and c>d:\n",
    "    print(\"c is the biggest\")\n",
    "  else:\n",
    "    print(\"d is the biggest\")\n",
    "if __name__ == \"__main__\":\n",
    "    BiggestDefaultArg(a=2,c=3,b=4)"
   ]
  },
  {
   "cell_type": "code",
   "execution_count": null,
   "metadata": {},
   "outputs": [],
   "source": [
    "def recur_fibo(n):  \n",
    "   if n <= 1:  \n",
    "       return n  \n",
    "   else:  \n",
    "       return(recur_fibo(n-1) + recur_fibo(n-2))\n",
    "nterms = int(input(\"How many terms? \")) \n",
    "if nterms <= 0:  \n",
    "   print(\"Plese enter a positive integer\")  \n",
    "else:  \n",
    "   print(\"Fibonacci sequence:\")  \n",
    "   for i in range(nterms):  \n",
    "       print(recur_fibo(i))"
   ]
  }
 ],
 "metadata": {
  "kernelspec": {
   "display_name": "Python 3",
   "language": "python",
   "name": "python3"
  },
  "language_info": {
   "codemirror_mode": {
    "name": "ipython",
    "version": 3
   },
   "file_extension": ".py",
   "mimetype": "text/x-python",
   "name": "python",
   "nbconvert_exporter": "python",
   "pygments_lexer": "ipython3",
   "version": "3.7.7"
  }
 },
 "nbformat": 4,
 "nbformat_minor": 4
}
